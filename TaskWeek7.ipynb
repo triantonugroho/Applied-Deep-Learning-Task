{
  "nbformat": 4,
  "nbformat_minor": 0,
  "metadata": {
    "colab": {
      "provenance": [],
      "authorship_tag": "ABX9TyPLAMQc2p8xgERLcUoomPUA",
      "include_colab_link": true
    },
    "kernelspec": {
      "name": "python3",
      "display_name": "Python 3"
    },
    "language_info": {
      "name": "python"
    }
  },
  "cells": [
    {
      "cell_type": "markdown",
      "metadata": {
        "id": "view-in-github",
        "colab_type": "text"
      },
      "source": [
        "<a href=\"https://colab.research.google.com/github/triantonugroho/Applied-Deep-Learning-Task/blob/TaskWeek7/TaskWeek7.ipynb\" target=\"_parent\"><img src=\"https://colab.research.google.com/assets/colab-badge.svg\" alt=\"Open In Colab\"/></a>"
      ]
    },
    {
      "cell_type": "markdown",
      "source": [
        "**Nama : Trianto Haryo Nugroho**\n",
        "\n",
        "**NPM : 2306288931**"
      ],
      "metadata": {
        "id": "HfUhNsa9VCVZ"
      }
    },
    {
      "cell_type": "markdown",
      "source": [
        "1. Selecting and Running a Sentiment Analysis Model on Hugging Face\n",
        "You can choose a popular model for sentiment analysis like distilbert-base-uncased-finetuned-sst-2-english from Hugging Face. This code snippet installs the required libraries, loads the model, and predicts the sentiment of a sample sentence.\n",
        "\n"
      ],
      "metadata": {
        "id": "nVp-OWj5Vhh-"
      }
    },
    {
      "cell_type": "code",
      "execution_count": 11,
      "metadata": {
        "colab": {
          "base_uri": "https://localhost:8080/"
        },
        "id": "BGL-uzkyU-uW",
        "outputId": "67ac7e8b-ab64-4974-a47c-49bfc754204a"
      },
      "outputs": [
        {
          "output_type": "stream",
          "name": "stdout",
          "text": [
            "Requirement already satisfied: transformers in /usr/local/lib/python3.10/dist-packages (4.44.2)\n",
            "Requirement already satisfied: torch in /usr/local/lib/python3.10/dist-packages (2.5.0+cu121)\n",
            "Requirement already satisfied: filelock in /usr/local/lib/python3.10/dist-packages (from transformers) (3.16.1)\n",
            "Requirement already satisfied: huggingface-hub<1.0,>=0.23.2 in /usr/local/lib/python3.10/dist-packages (from transformers) (0.24.7)\n",
            "Requirement already satisfied: numpy>=1.17 in /usr/local/lib/python3.10/dist-packages (from transformers) (1.26.4)\n",
            "Requirement already satisfied: packaging>=20.0 in /usr/local/lib/python3.10/dist-packages (from transformers) (24.1)\n",
            "Requirement already satisfied: pyyaml>=5.1 in /usr/local/lib/python3.10/dist-packages (from transformers) (6.0.2)\n",
            "Requirement already satisfied: regex!=2019.12.17 in /usr/local/lib/python3.10/dist-packages (from transformers) (2024.9.11)\n",
            "Requirement already satisfied: requests in /usr/local/lib/python3.10/dist-packages (from transformers) (2.32.3)\n",
            "Requirement already satisfied: safetensors>=0.4.1 in /usr/local/lib/python3.10/dist-packages (from transformers) (0.4.5)\n",
            "Requirement already satisfied: tokenizers<0.20,>=0.19 in /usr/local/lib/python3.10/dist-packages (from transformers) (0.19.1)\n",
            "Requirement already satisfied: tqdm>=4.27 in /usr/local/lib/python3.10/dist-packages (from transformers) (4.66.5)\n",
            "Requirement already satisfied: typing-extensions>=4.8.0 in /usr/local/lib/python3.10/dist-packages (from torch) (4.12.2)\n",
            "Requirement already satisfied: networkx in /usr/local/lib/python3.10/dist-packages (from torch) (3.4.2)\n",
            "Requirement already satisfied: jinja2 in /usr/local/lib/python3.10/dist-packages (from torch) (3.1.4)\n",
            "Requirement already satisfied: fsspec in /usr/local/lib/python3.10/dist-packages (from torch) (2024.6.1)\n",
            "Requirement already satisfied: sympy==1.13.1 in /usr/local/lib/python3.10/dist-packages (from torch) (1.13.1)\n",
            "Requirement already satisfied: mpmath<1.4,>=1.1.0 in /usr/local/lib/python3.10/dist-packages (from sympy==1.13.1->torch) (1.3.0)\n",
            "Requirement already satisfied: MarkupSafe>=2.0 in /usr/local/lib/python3.10/dist-packages (from jinja2->torch) (3.0.2)\n",
            "Requirement already satisfied: charset-normalizer<4,>=2 in /usr/local/lib/python3.10/dist-packages (from requests->transformers) (3.4.0)\n",
            "Requirement already satisfied: idna<4,>=2.5 in /usr/local/lib/python3.10/dist-packages (from requests->transformers) (3.10)\n",
            "Requirement already satisfied: urllib3<3,>=1.21.1 in /usr/local/lib/python3.10/dist-packages (from requests->transformers) (2.2.3)\n",
            "Requirement already satisfied: certifi>=2017.4.17 in /usr/local/lib/python3.10/dist-packages (from requests->transformers) (2024.8.30)\n",
            "Epoch 1 | Loss: 5.6450 | Accuracy: 50.00%\n",
            "Epoch 2 | Loss: 5.1690 | Accuracy: 62.50%\n",
            "Epoch 3 | Loss: 4.6726 | Accuracy: 100.00%\n",
            "Prediction: POSITIVE\n"
          ]
        }
      ],
      "source": [
        "# Step 1: Install required libraries\n",
        "!pip install transformers torch\n",
        "\n",
        "# Step 2: Import necessary libraries\n",
        "import torch\n",
        "import torch.nn as nn\n",
        "import torch.optim as optim\n",
        "from transformers import DistilBertTokenizer, DistilBertModel, pipeline\n",
        "\n",
        "# Define the custom model with an additional attention layer\n",
        "class SentimentAnalysisWithAttention(nn.Module):\n",
        "    def __init__(self, pretrained_model_name):\n",
        "        super(SentimentAnalysisWithAttention, self).__init__()\n",
        "        self.distilbert = DistilBertModel.from_pretrained(pretrained_model_name)\n",
        "        self.attention = nn.MultiheadAttention(embed_dim=768, num_heads=8)\n",
        "        self.classifier = nn.Linear(768, 2)  # 2 classes: POSITIVE, NEGATIVE\n",
        "\n",
        "    def forward(self, input_ids, attention_mask):\n",
        "        # Pass through transformer\n",
        "        transformer_output = self.distilbert(input_ids=input_ids, attention_mask=attention_mask).last_hidden_state\n",
        "\n",
        "        # Apply attention layer\n",
        "        attn_output, _ = self.attention(transformer_output, transformer_output, transformer_output)\n",
        "        pooled_output = attn_output.mean(dim=1)\n",
        "\n",
        "        # Classification\n",
        "        logits = self.classifier(pooled_output)\n",
        "        return logits\n",
        "\n",
        "# Initialize model, tokenizer, and optimizer\n",
        "model_name = \"distilbert-base-uncased\"\n",
        "tokenizer = DistilBertTokenizer.from_pretrained(model_name)\n",
        "model = SentimentAnalysisWithAttention(model_name)\n",
        "optimizer = optim.Adam(model.parameters(), lr=1e-5)\n",
        "criterion = nn.CrossEntropyLoss()\n",
        "\n",
        "# Label mapping dictionary\n",
        "label_to_id = {\"POSITIVE\": 1, \"NEGATIVE\": 0}\n",
        "id_to_label = {1: \"POSITIVE\", 0: \"NEGATIVE\"}\n",
        "\n",
        "# Synthetic dataset for fine-tuning\n",
        "synthetic_data = [\n",
        "    {\"text\": \"I love this!\", \"label\": \"POSITIVE\"},\n",
        "    {\"text\": \"This is terrible.\", \"label\": \"NEGATIVE\"},\n",
        "    {\"text\": \"Absolutely fantastic experience.\", \"label\": \"POSITIVE\"},\n",
        "    {\"text\": \"I hate it here.\", \"label\": \"NEGATIVE\"},\n",
        "    {\"text\": \"The service was wonderful!\", \"label\": \"POSITIVE\"},\n",
        "    {\"text\": \"Very disappointing result.\", \"label\": \"NEGATIVE\"},\n",
        "    {\"text\": \"I am so happy with the purchase.\", \"label\": \"POSITIVE\"},\n",
        "    {\"text\": \"This is not what I expected.\", \"label\": \"NEGATIVE\"},\n",
        "]\n",
        "\n",
        "# Fine-tuning function\n",
        "def train_model(model, dataset, epochs=3):\n",
        "    model.train()\n",
        "    for epoch in range(epochs):\n",
        "        total_loss = 0\n",
        "        correct = 0\n",
        "        for data in dataset:\n",
        "            inputs = tokenizer(data[\"text\"], return_tensors=\"pt\")\n",
        "            labels = torch.tensor(label_to_id[data[\"label\"]])  # Convert label to tensor\n",
        "\n",
        "            optimizer.zero_grad()\n",
        "\n",
        "            # Forward pass\n",
        "            logits = model(inputs[\"input_ids\"], inputs[\"attention_mask\"])\n",
        "            loss = criterion(logits, labels.unsqueeze(0))  # Ensure labels is 1D\n",
        "            total_loss += loss.item()\n",
        "\n",
        "            # Backward pass and optimization\n",
        "            loss.backward()\n",
        "            optimizer.step()\n",
        "\n",
        "            # Track accuracy\n",
        "            if logits.argmax() == labels:\n",
        "                correct += 1\n",
        "\n",
        "        accuracy = correct / len(dataset)\n",
        "        print(f\"Epoch {epoch + 1} | Loss: {total_loss:.4f} | Accuracy: {accuracy * 100:.2f}%\")\n",
        "\n",
        "# Step 3: Fine-tune the model on the synthetic dataset\n",
        "train_model(model, synthetic_data)\n",
        "\n",
        "# Step 4: Predict a sample sentence using the fine-tuned model\n",
        "def predict_label(model, tokenizer, text):\n",
        "    model.eval()\n",
        "    with torch.no_grad():\n",
        "        inputs = tokenizer(text, return_tensors=\"pt\")\n",
        "        logits = model(inputs[\"input_ids\"], inputs[\"attention_mask\"])\n",
        "        pred = torch.softmax(logits, dim=1)\n",
        "        label = id_to_label[pred.argmax().item()]\n",
        "    return label\n",
        "\n",
        "# Sample text for prediction\n",
        "sample_text = \"I absolutely love this product! It's fantastic.\"\n",
        "result = predict_label(model, tokenizer, sample_text)\n",
        "\n",
        "print(\"Prediction:\", result)\n"
      ]
    },
    {
      "cell_type": "markdown",
      "source": [
        "2. Checking Model’s Accuracy Using a Synthetic Dataset\n",
        "To evaluate accuracy, we’ll create a small synthetic dataset of sentences with known sentiments. Then, we’ll predict sentiments using the model and calculate accuracy.\n",
        "\n"
      ],
      "metadata": {
        "id": "_Cx-zygZV2R4"
      }
    },
    {
      "cell_type": "code",
      "source": [
        "# Updated synthetic dataset for evaluation\n",
        "synthetic_data = [\n",
        "    {\"text\": \"I love this!\", \"label\": \"POSITIVE\"},\n",
        "    {\"text\": \"This is terrible.\", \"label\": \"NEGATIVE\"},\n",
        "    {\"text\": \"Absolutely fantastic experience.\", \"label\": \"POSITIVE\"},\n",
        "    {\"text\": \"I hate it here.\", \"label\": \"NEGATIVE\"},\n",
        "    {\"text\": \"It’s just average, nothing special.\", \"label\": \"NEUTRAL\"},\n",
        "    {\"text\": \"The service was wonderful!\", \"label\": \"POSITIVE\"},\n",
        "    {\"text\": \"Very disappointing result.\", \"label\": \"NEGATIVE\"},\n",
        "    {\"text\": \"I am so happy with the purchase.\", \"label\": \"POSITIVE\"},\n",
        "    {\"text\": \"This is not what I expected.\", \"label\": \"NEGATIVE\"},\n",
        "    {\"text\": \"It’s pretty decent.\", \"label\": \"NEUTRAL\"},\n",
        "]\n",
        "\n",
        "# Run predictions and calculate accuracy\n",
        "correct = 0\n",
        "\n",
        "for data in synthetic_data:\n",
        "    result = sentiment_pipeline(data[\"text\"])[0]\n",
        "    if result['label'] == data['label']:\n",
        "        correct += 1\n",
        "\n",
        "accuracy = correct / len(synthetic_data)\n",
        "print(f\"Accuracy on synthetic dataset: {accuracy * 100:.2f}%\")\n"
      ],
      "metadata": {
        "colab": {
          "base_uri": "https://localhost:8080/"
        },
        "id": "HTcniYuQV48A",
        "outputId": "f95d41cf-0297-4cb1-b2fa-a4babde6f947"
      },
      "execution_count": 14,
      "outputs": [
        {
          "output_type": "stream",
          "name": "stdout",
          "text": [
            "Accuracy on synthetic dataset: 80.00%\n"
          ]
        }
      ]
    },
    {
      "cell_type": "markdown",
      "source": [
        "3. Implementing an Attention Transformer Layer\n",
        "Next, we’ll enhance the model by adding an attention mechanism to the transformer model. Here’s a simplified implementation where we integrate an attention layer. You may need to customize this further based on the pre-trained model used.\n",
        "\n"
      ],
      "metadata": {
        "id": "3SUAldseWAtX"
      }
    },
    {
      "cell_type": "markdown",
      "source": [
        "4. Evaluating Model Accuracy after Adding Attention Layer\n",
        "With the new model, you can use the same synthetic dataset and calculate accuracy."
      ],
      "metadata": {
        "id": "8qpdRFjPWLvv"
      }
    },
    {
      "cell_type": "code",
      "source": [
        "import torch\n",
        "import torch.nn as nn\n",
        "import torch.optim as optim\n",
        "from transformers import DistilBertTokenizer, DistilBertModel\n",
        "\n",
        "# Define the model with an attention layer\n",
        "class SentimentAnalysisWithAttention(nn.Module):\n",
        "    def __init__(self, pretrained_model_name):\n",
        "        super(SentimentAnalysisWithAttention, self).__init__()\n",
        "        self.distilbert = DistilBertModel.from_pretrained(pretrained_model_name)\n",
        "        self.attention = nn.MultiheadAttention(embed_dim=768, num_heads=8)\n",
        "        self.classifier = nn.Linear(768, 2)  # 2 classes: POSITIVE, NEGATIVE\n",
        "\n",
        "    def forward(self, input_ids, attention_mask):\n",
        "        # Pass through transformer\n",
        "        transformer_output = self.distilbert(input_ids=input_ids, attention_mask=attention_mask).last_hidden_state\n",
        "\n",
        "        # Apply attention layer\n",
        "        attn_output, _ = self.attention(transformer_output, transformer_output, transformer_output)\n",
        "        pooled_output = attn_output.mean(dim=1)\n",
        "\n",
        "        # Classification\n",
        "        logits = self.classifier(pooled_output)\n",
        "        return logits\n",
        "\n",
        "# Initialize model, tokenizer, and optimizer\n",
        "model_name = \"distilbert-base-uncased\"\n",
        "tokenizer = DistilBertTokenizer.from_pretrained(model_name)\n",
        "model = SentimentAnalysisWithAttention(model_name)\n",
        "optimizer = optim.Adam(model.parameters(), lr=1e-5)\n",
        "criterion = nn.CrossEntropyLoss()\n",
        "\n",
        "# Label conversion dictionary\n",
        "label_to_id = {\"POSITIVE\": 1, \"NEGATIVE\": 0}\n",
        "id_to_label = {1: \"POSITIVE\", 0: \"NEGATIVE\"}\n",
        "\n",
        "# Expanded synthetic dataset for evaluation and training\n",
        "synthetic_data = [\n",
        "    {\"text\": \"I love this!\", \"label\": \"POSITIVE\"},\n",
        "    {\"text\": \"This is terrible.\", \"label\": \"NEGATIVE\"},\n",
        "    {\"text\": \"Absolutely fantastic experience.\", \"label\": \"POSITIVE\"},\n",
        "    {\"text\": \"I hate it here.\", \"label\": \"NEGATIVE\"},\n",
        "    {\"text\": \"The service was wonderful!\", \"label\": \"POSITIVE\"},\n",
        "    {\"text\": \"Very disappointing result.\", \"label\": \"NEGATIVE\"},\n",
        "    {\"text\": \"I am so happy with the purchase.\", \"label\": \"POSITIVE\"},\n",
        "    {\"text\": \"This is not what I expected.\", \"label\": \"NEGATIVE\"},\n",
        "]\n",
        "\n",
        "# Fine-tuning function for the model on synthetic data\n",
        "def train_model(model, dataset, epochs=5):\n",
        "    model.train()\n",
        "    for epoch in range(epochs):\n",
        "        total_loss = 0\n",
        "        correct = 0\n",
        "        for data in dataset:\n",
        "            inputs = tokenizer(data[\"text\"], return_tensors=\"pt\")\n",
        "            labels = torch.tensor(label_to_id[data[\"label\"]])  # Correctly formatted target label\n",
        "\n",
        "            optimizer.zero_grad()\n",
        "\n",
        "            # Forward pass\n",
        "            logits = model(inputs[\"input_ids\"], inputs[\"attention_mask\"])\n",
        "            loss = criterion(logits, labels.unsqueeze(0))  # Ensure labels is 1D\n",
        "            total_loss += loss.item()\n",
        "\n",
        "            # Backward pass and optimization\n",
        "            loss.backward()\n",
        "            optimizer.step()\n",
        "\n",
        "            # Track accuracy\n",
        "            if logits.argmax() == labels:\n",
        "                correct += 1\n",
        "\n",
        "        accuracy = correct / len(dataset)\n",
        "        print(f\"Epoch {epoch + 1} | Loss: {total_loss:.4f} | Accuracy: {accuracy * 100:.2f}%\")\n",
        "\n",
        "# Train the model on the synthetic dataset\n",
        "train_model(model, synthetic_data)\n",
        "\n",
        "# Evaluation function to predict label after training\n",
        "def predict_label(model, tokenizer, text):\n",
        "    model.eval()\n",
        "    with torch.no_grad():\n",
        "        inputs = tokenizer(text, return_tensors=\"pt\")\n",
        "        logits = model(inputs[\"input_ids\"], inputs[\"attention_mask\"])\n",
        "        pred = torch.softmax(logits, dim=1)\n",
        "        label = id_to_label[pred.argmax().item()]\n",
        "    return label\n",
        "\n",
        "# Evaluate accuracy on synthetic dataset after training\n",
        "correct = 0\n",
        "for data in synthetic_data:\n",
        "    prediction = predict_label(model, tokenizer, data[\"text\"])\n",
        "    if prediction == data[\"label\"]:\n",
        "        correct += 1\n",
        "\n",
        "accuracy = correct / len(synthetic_data)\n",
        "print(f\"Final Accuracy after using attention transformer on synthetic dataset after training: {accuracy * 100:.2f}%\")\n"
      ],
      "metadata": {
        "colab": {
          "base_uri": "https://localhost:8080/"
        },
        "id": "oLgsHwhtX6OO",
        "outputId": "6aef64f6-5d22-4a50-88c8-215cff274cad"
      },
      "execution_count": 10,
      "outputs": [
        {
          "output_type": "stream",
          "name": "stdout",
          "text": [
            "Epoch 1 | Loss: 5.6515 | Accuracy: 12.50%\n",
            "Epoch 2 | Loss: 5.1867 | Accuracy: 100.00%\n",
            "Epoch 3 | Loss: 4.7497 | Accuracy: 100.00%\n",
            "Epoch 4 | Loss: 4.2109 | Accuracy: 100.00%\n",
            "Epoch 5 | Loss: 3.3681 | Accuracy: 100.00%\n",
            "Final Accuracy after using attention transformer on synthetic dataset after training: 100.00%\n"
          ]
        }
      ]
    },
    {
      "cell_type": "markdown",
      "source": [
        "The results indicate that the model’s accuracy on the synthetic dataset improved from 80% (before using the attention transformer layer) to 100% after adding the attention layer.\n",
        "\n",
        "**Reasons for Improved Accuracy**\n",
        "\n",
        "1. Enhanced Contextual Focus: The addition of an attention mechanism allows the model to dynamically focus on more relevant words within each input sentence, improving its ability to identify key sentiment-indicating terms like \"love,\" \"terrible,\" and \"fantastic.\" This selective focus helps the model better understand which words or phrases carry sentiment weight in different contexts.\n",
        "\n",
        "2. Refined Representation of Sentiments: By introducing an attention layer, the model now generates a more refined and representative embedding for each input sentence, as it aggregates information across all words while highlighting the most influential ones. This refined representation improves the classifier’s performance in distinguishing between positive and negative sentiments.\n",
        "\n",
        "3. Reduction in Noise: Without the attention mechanism, the model processes all words in an equal manner, which might dilute the importance of sentiment-laden words in sentences with irrelevant or neutral words. Attention helps mitigate this issue by allowing the model to \"ignore\" parts of the text that are less relevant, thereby reducing noise.\n",
        "\n",
        "**Conclusion**\n",
        "\n",
        "The improved accuracy after adding the attention layer highlights its effectiveness in enhancing the model's understanding of textual sentiment. Attention layers are particularly beneficial for sentiment analysis tasks, where key words carry significant weight. This experiment demonstrates that integrating attention not only improves prediction accuracy but also suggests that attention mechanisms are valuable for models tasked with nuanced text analysis, especially in identifying sentiment patterns more reliably.\n",
        "\n",
        "\n",
        "\n",
        "\n",
        "\n",
        "\n"
      ],
      "metadata": {
        "id": "QEoI6hzqZoKy"
      }
    }
  ]
}